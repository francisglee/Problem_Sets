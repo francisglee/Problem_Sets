{
 "cells": [
  {
   "cell_type": "code",
   "execution_count": 2,
   "metadata": {
    "collapsed": false
   },
   "outputs": [
    {
     "ename": "ArgumentError",
     "evalue": "Python argument types in\n    rdkit.Chem.rdMolDescriptors.GetMorganFingerprintAsBitVect(str, int)\ndid not match C++ signature:\n    GetMorganFingerprintAsBitVect(class RDKit::ROMol mol, int radius, unsigned int nBits=2048, class boost::python::api::object invariants=[], class boost::python::api::object fromAtoms=[], bool useChirality=False, bool useBondTypes=True, bool useFeatures=False, class boost::python::api::object bitInfo=None)",
     "output_type": "error",
     "traceback": [
      "\u001b[1;31m---------------------------------------------------------------------------\u001b[0m",
      "\u001b[1;31mArgumentError\u001b[0m                             Traceback (most recent call last)",
      "\u001b[1;32m<ipython-input-2-cceee2a3ec01>\u001b[0m in \u001b[0;36m<module>\u001b[1;34m()\u001b[0m\n\u001b[0;32m     17\u001b[0m \u001b[0mm1\u001b[0m \u001b[1;33m=\u001b[0m \u001b[1;34m\"C1=CC=C(C=C1)C(=O)NC(CC2=CN=CN2)C(=O)O\"\u001b[0m\u001b[1;33m\u001b[0m\u001b[0m\n\u001b[0;32m     18\u001b[0m \u001b[1;33m\u001b[0m\u001b[0m\n\u001b[1;32m---> 19\u001b[1;33m \u001b[0mfp1\u001b[0m \u001b[1;33m=\u001b[0m \u001b[0mAllChem\u001b[0m\u001b[1;33m.\u001b[0m\u001b[0mGetMorganFingerprintAsBitVect\u001b[0m\u001b[1;33m(\u001b[0m\u001b[0mm1\u001b[0m\u001b[1;33m,\u001b[0m\u001b[1;36m2\u001b[0m\u001b[1;33m,\u001b[0m\u001b[0mnBits\u001b[0m\u001b[1;33m=\u001b[0m\u001b[1;36m1024\u001b[0m\u001b[1;33m)\u001b[0m\u001b[1;33m\u001b[0m\u001b[0m\n\u001b[0m\u001b[0;32m     20\u001b[0m \u001b[1;33m\u001b[0m\u001b[0m\n\u001b[0;32m     21\u001b[0m \u001b[1;32mprint\u001b[0m \u001b[0mfp1\u001b[0m\u001b[1;33m\u001b[0m\u001b[0m\n",
      "\u001b[1;31mArgumentError\u001b[0m: Python argument types in\n    rdkit.Chem.rdMolDescriptors.GetMorganFingerprintAsBitVect(str, int)\ndid not match C++ signature:\n    GetMorganFingerprintAsBitVect(class RDKit::ROMol mol, int radius, unsigned int nBits=2048, class boost::python::api::object invariants=[], class boost::python::api::object fromAtoms=[], bool useChirality=False, bool useBondTypes=True, bool useFeatures=False, class boost::python::api::object bitInfo=None)"
     ]
    }
   ],
   "source": [
    "import rdkit.Chem as Chem\n",
    "from rdkit.Chem import AllChem\n",
    "import numpy as np\n",
    "\n",
    "def smiles_to_fps(data, fp_length, fp_radius):\n",
    "    return stringlist2intarray(np.array([smile_to_fp(s, fp_length, fp_radius) for s in data]))\n",
    "\n",
    "def smile_to_fp(s, fp_length, fp_radius):\n",
    "    m = Chem.MolFromSmiles(s)\n",
    "    return (AllChem.GetMorganFingerprintAsBitVect(\n",
    "        m, fp_radius, nBits=fp_length)).ToBitString()\n",
    "\n",
    "def stringlist2intarray(A):\n",
    "    '''This function will convert from a list of strings \"10010101\" into in integer numpy array.'''\n",
    "    return np.array([list(s) for s in A], dtype=int)\n",
    "\n",
    "m1 = \"C1=CC=C(C=C1)C(=O)NC(CC2=CN=CN2)C(=O)O\"\n",
    "\n",
    "fp1 = AllChem.GetMorganFingerprintAsBitVect(m1,2,nBits=1024)\n",
    "\n",
    "print fp1"
   ]
  },
  {
   "cell_type": "code",
   "execution_count": null,
   "metadata": {
    "collapsed": true
   },
   "outputs": [],
   "source": [
    "m1 = \"C1=CC=C(C=C1)C(=O)NC(CC2=CN=CN2)C(=O)O\"\n",
    "\n",
    "fp1 = AllChem.GetMorganFingerprintAsBitVect(m1,2,nBits=1024)\n",
    "\n",
    "print fp1\n",
    "\n",
    ">>> fp1 = AllChem.GetMorganFingerprintAsBitVect(m1,2,nBits=1024)\n",
    ">>> \n",
    "<rdkit.DataStructs.cDataStructs.ExplicitBitVect object at 0x...>\n",
    ">>> fp2 = AllChem.GetMorganFingerprintAsBitVect(m2,2,nBits=1024)\n",
    ">>> DataStructs.DiceSimilarity(fp1,fp2)\n",
    "0.51..."
   ]
  },
  {
   "cell_type": "code",
   "execution_count": null,
   "metadata": {
    "collapsed": true
   },
   "outputs": [],
   "source": [
    "from argparse import ArgumentParser as _ArgumentParser\n",
    "from numpy import savetxt as _savetxt, arange as _arange, asarray as  _asarray, array as _array, sort as _sort, ones as _ones, zeros as  _zeros\n",
    "from rdkit.Chem import SmilesMolSupplier as _SmilesMolSupplier, MolFromMol2Block as _MolFromMol2Block, SDMolSupplier as _SDMolSupplier, MolToSmiles as _MolToSmiles, PathToSubmol as _PathToSubmol, FindAtomEnvironmentOfRadiusN as _FindAtomEnvironmentOfRadiusN\n",
    "from operator import add as _add\n",
    "from rdkit.Chem.AllChem import GetMorganFingerprintAsBitVect as  _GetMorganFingerprintAsBitVect, GetMorganFingerprint as _GetMorganFingerprint\n",
    "from os.path import splitext as _splitext, exists as _exists \n",
    "from os import makedirs as _makedirs\n",
    "from rdkit.Chem.Draw import MolToFile as _MolToFile\n",
    "import sys"
   ]
  }
 ],
 "metadata": {
  "kernelspec": {
   "display_name": "Python 2",
   "language": "python",
   "name": "python2"
  },
  "language_info": {
   "codemirror_mode": {
    "name": "ipython",
    "version": 2
   },
   "file_extension": ".py",
   "mimetype": "text/x-python",
   "name": "python",
   "nbconvert_exporter": "python",
   "pygments_lexer": "ipython2",
   "version": "2.7.11"
  }
 },
 "nbformat": 4,
 "nbformat_minor": 0
}
