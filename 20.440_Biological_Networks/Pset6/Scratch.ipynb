{
 "cells": [
  {
   "cell_type": "code",
   "execution_count": 5,
   "metadata": {
    "collapsed": false
   },
   "outputs": [
    {
     "name": "stdout",
     "output_type": "stream",
     "text": [
      "[[  3.           4.           2.           2.        ]\n",
      " [  0.           1.           3.           2.        ]\n",
      " [  2.           6.           6.70820393   3.        ]\n",
      " [  5.           7.          23.34523506   5.        ]]\n"
     ]
    },
    {
     "data": {
      "text/plain": [
       "{'color_list': ['b', 'b', 'b', 'b'],\n",
       " 'dcoord': [[0.0, 3.0, 3.0, 0.0],\n",
       "  [3.0, 6.708203932, 6.708203932, 0.0],\n",
       "  [0.0, 2.0, 2.0, 0.0],\n",
       "  [6.708203932, 23.34523506, 23.34523506, 2.0]],\n",
       " 'icoord': [[5.0, 5.0, 15.0, 15.0],\n",
       "  [10.0, 10.0, 25.0, 25.0],\n",
       "  [35.0, 35.0, 45.0, 45.0],\n",
       "  [17.5, 17.5, 40.0, 40.0]],\n",
       " 'ivl': ['e', 'd', 'a', 'c', 'b'],\n",
       " 'leaves': [1, 0, 2, 4, 3]}"
      ]
     },
     "execution_count": 5,
     "metadata": {},
     "output_type": "execute_result"
    },
    {
     "data": {
      "image/png": "[encoded data removed]",
      "text/plain": [
       "<matplotlib.figure.Figure at 0x7fcee48>"
      ]
     },
     "metadata": {},
     "output_type": "display_data"
    }
   ],
   "source": [
    "import matplotlib.pyplot as plt\n",
    "from scipy.cluster.hierarchy import dendrogram, linkage\n",
    "from numpy import array\n",
    "import numpy as np\n",
    "\n",
    "%matplotlib inline\n",
    "\n",
    "# mat = array([184, 222, 177, 216, 231, \n",
    "#              45, 123, 128, 200, \n",
    "#              129, 121, 203, \n",
    "#              46, 83, \n",
    "#              83])\n",
    "\n",
    "# define distance matrix\n",
    "dist_mat = array([3, 6, 21.09502311, 23.08679276,\n",
    "              6.708203932, 18.11077028, 20.09975124,\n",
    "              21.37755833, 23.34523506,\n",
    "              2])\n",
    "\n",
    "# Perform hierarchical/agglomerative clustering on the condensed distance matrix \n",
    "linkage_matrix = linkage(dist_mat, 'complete')\n",
    "\n",
    "print linkage_matrix #what is the structure of the linkage matrix?\n",
    "\n",
    "plt.figure(101)\n",
    "\n",
    "plt.subplot(1, 2, 1)\n",
    "plt.title(\"ascending\")\n",
    "dendrogram(linkage_matrix,\n",
    "           color_threshold = 1,\n",
    "             truncate_mode = 'lastp',\n",
    "                    labels = array(['d', 'e', 'a', 'b', 'c']),\n",
    "             distance_sort = 'ascending',\n",
    "          show_leaf_counts = True)\n",
    "\n",
    "plt.subplot(1, 2, 2)\n",
    "plt.title(\"descending\")\n",
    "dendrogram(linkage_matrix,\n",
    "           color_threshold = 1,\n",
    "             truncate_mode = 'lastp',\n",
    "                    labels = array(['d', 'e', 'a', 'b', 'c']),\n",
    "             distance_sort = 'descending',\n",
    "          show_leaf_counts = True)"
   ]
  },
  {
   "cell_type": "code",
   "execution_count": null,
   "metadata": {
    "collapsed": true
   },
   "outputs": [],
   "source": [
    "%matplotlib inline\n",
    "\n",
    "mat1 = array([184, 222, 177, 216, 231, \n",
    "             45, 123, 128, 200, \n",
    "             129, 121, 203, \n",
    "             46, 83, \n",
    "             83])\n"
   ]
  },
  {
   "cell_type": "code",
   "execution_count": null,
   "metadata": {
    "collapsed": true
   },
   "outputs": [],
   "source": [
    "\n",
    "\n",
    "\n",
    "\n",
    "\n",
    "def make_fake_data():\n",
    "    amp = 1000.\n",
    "    x = []\n",
    "    y = []\n",
    "    for i in range(0, 10):\n",
    "        s = 20\n",
    "        x.append(np.random.normal(30, s))\n",
    "        y.append(np.random.normal(30, s))\n",
    "    for i in range(0, 20):\n",
    "        s = 2\n",
    "        x.append(np.random.normal(150, s))\n",
    "        y.append(np.random.normal(150, s))\n",
    "    for i in range(0, 10):\n",
    "        s = 5\n",
    "        x.append(np.random.normal(-20, s))\n",
    "        y.append(np.random.normal(50, s))\n",
    "\n",
    "    plt.figure(1)\n",
    "    plt.title('fake data')\n",
    "    plt.scatter(x, y)\n",
    "\n",
    "    d = []\n",
    "    for i in range(len(x) - 1):\n",
    "        for j in range(i+1, len(x) - 1):\n",
    "            d.append(np.sqrt(((x[i]-x[j])**2 + (y[i]-y[j])**2)))\n",
    "    return d\n",
    "\n",
    "mat = make_fake_data()\n",
    "\n",
    "\n",
    "plt.figure(102)\n",
    "plt.title(\"Three Clusters\")\n",
    "\n",
    "linkage_matrix = linkage(mat, 'single')\n",
    "print \"three clusters\"\n",
    "print linkage_matrix\n",
    "\n",
    "dendrogram(linkage_matrix,\n",
    "           truncate_mode='lastp',\n",
    "           color_threshold=1,\n",
    "           show_leaf_counts=True)\n",
    "\n",
    "plt.show()"
   ]
  },
  {
   "cell_type": "code",
   "execution_count": null,
   "metadata": {
    "collapsed": true
   },
   "outputs": [],
   "source": [
    "\n"
   ]
  },
  {
   "cell_type": "code",
   "execution_count": null,
   "metadata": {
    "collapsed": true
   },
   "outputs": [],
   "source": []
  }
 ],
 "metadata": {
  "kernelspec": {
   "display_name": "Python 2",
   "language": "python",
   "name": "python2"
  },
  "language_info": {
   "codemirror_mode": {
    "name": "ipython",
    "version": 2
   },
   "file_extension": ".py",
   "mimetype": "text/x-python",
   "name": "python",
   "nbconvert_exporter": "python",
   "pygments_lexer": "ipython2",
   "version": "2.7.11"
  }
 },
 "nbformat": 4,
 "nbformat_minor": 0
}
