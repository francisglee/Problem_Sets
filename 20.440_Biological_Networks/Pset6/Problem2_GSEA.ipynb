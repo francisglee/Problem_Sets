{
 "cells": [
  {
   "cell_type": "code",
   "execution_count": null,
   "metadata": {
    "collapsed": true
   },
   "outputs": [],
   "source": [
    "# first open dataset\n",
    "# identify the phenotypes\n",
    "# rank list of genes by expression correlation to phenotype\n",
    "\n",
    "%cd \"C:\\Users\\Francis\\Documents\\GitHub\\problem-sets\\20.440_Biological_Networks\\Pset6\\GSEA_files\\Gene sets\"\n",
    "\n",
    "from numpy import genfromtxt\n",
    "\n",
    "# start importing all the data files\n",
    "\n",
    "gene_set1, gene_set2, gene_set3, gene_set4, gene_set5, gene_set6 = [], [], [], [], [], []\n",
    "all_gene_sets = [gene_set1, gene_set2, gene_set3, gene_set4, gene_set5, gene_set6]\n",
    "\n",
    "for item in all_gene_sets:\n",
    "    item.a\n",
    "genfromtxt('my_file.csv', delimiter=',')"
   ]
  },
  {
   "cell_type": "code",
   "execution_count": 5,
   "metadata": {
    "collapsed": false
   },
   "outputs": [
    {
     "name": "stdout",
     "output_type": "stream",
     "text": [
      "C:\\Users\\Francis Lee\\Documents\\GitHub\\problem-sets\\20.440_Biological_Networks\\Pset6\\GSEA_files\\Gene sets\n",
      "C:\\Users\\Francis Lee\\Documents\\GitHub\\problem-sets\\20.440_Biological_Networks\\Pset6\\GSEA_files\\Gene sets\n",
      "0.5,0.49,0.3,5,5.6,4.9\n",
      "4.4,4.6,4.2,9.1,9.3,9.9\n",
      "1,3.2,3.5,5.5,5.7,5.8\n",
      "10.2,10.1,9.9,11.3,11,10.4\n",
      "2.4,3.7,1.5,5.1,4.5,3.5\n",
      "1.1,1,1.4,1.2,1.8,1.9\n",
      "4,2,3.9,6.1,6.9,3.1\n",
      "2,2.9,2.1,2.7,2.8,2.6\n",
      "5.9,7.2,6.9,7.3,8.2,6.6\n",
      "2.1,2.3,2.9,2.9,2.7,2.5\n",
      "5.8,6.6,5.5,7.1,6.2,5.8\n",
      "0.8,0.8,1,1,1.1,0.7\n",
      "4.4,4.2,4,4.1,4.9,3.9\n",
      "2.5,2.1,3,3.1,2.4,2.2\n",
      "0.2,0.1,0.13,0.1,0.15,0.17\n",
      "7,8,6.9,6.5,6.8,8.2\n",
      "8.5,8.9,8.6,8.4,8.8,8.6\n",
      "4.1,6.2,5.7,5.5,5.2,4.1\n",
      "2.3,2.6,3.5,2.1,2.9,2.5\n",
      "7.5,8.3,6.1,5.5,7.2,6.6\n",
      "7.7,7.6,7.7,7.2,7.5,7.7\n",
      "5.5,4.3,2.6,3.1,2.1,2.4\n",
      "8.2,7.6,8.1,6.7,7.2,7.5\n",
      "5,5.2,3.3,2.2,2.5,2.6\n",
      "3,3.1,3.1,2.8,2.7,2.6\n",
      "2.6,2.5,2.5,0.4,0.6,0.7\n",
      "603 '0.5,0.49,0.3,5,5.6,4.9\\n4.4,4.6,4.2,9.1,9.3,9.9\\n1,3.2,3.5,5.5,5.7,5.8\\n10.2,10.1,9.9,11.3,11,10.4\\n2.4,3.7,1.5,5.1,4.5,3.5\\n1.1,1,1.4,1.2,1.8,1.9\\n4,2,3.9,6.1,6.9,3.1\\n2,2.9,2.1,2.7,2.8,2.6\\n5.9,7.2,6.9,7.3,8.2,6.6\\n2.1,2.3,2.9,2.9,2.7,2.5\\n5.8,6.6,5.5,7.1,6.2,5.8\\n0.8,0.8,1,1,1.1,0.7\\n4.4,4.2,4,4.1,4.9,3.9\\n2.5,2.1,3,3.1,2.4,2.2\\n0.2,0.1,0.13,0.1,0.15,0.17\\n7,8,6.9,6.5,6.8,8.2\\n8.5,8.9,8.6,8.4,8.8,8.6\\n4.1,6.2,5.7,5.5,5.2,4.1\\n2.3,2.6,3.5,2.1,2.9,2.5\\n7.5,8.3,6.1,5.5,7.2,6.6\\n7.7,7.6,7.7,7.2,7.5,7.7\\n5.5,4.3,2.6,3.1,2.1,2.4\\n8.2,7.6,8.1,6.7,7.2,7.5\\n5,5.2,3.3,2.2,2.5,2.6\\n3,3.1,3.1,2.8,2.7,2.6\\n2.6,2.5,2.5,0.4,0.6,0.7\\n'\n"
     ]
    }
   ],
   "source": [
    "import csv\n",
    "from numpy import genfromtxt\n",
    "import re\n",
    "import os\n",
    "\n",
    "%cd \"C:\\Users\\Francis Lee\\Documents\\GitHub\\problem-sets\\20.440_Biological_Networks\\Pset6\\GSEA_files\\Gene sets\"\n",
    "print os.getcwd()\n",
    "\n",
    "\n",
    "e_data = \"\"\n",
    "\n",
    "for line in open('gseaE.txt', 'r'):\n",
    "    e_data += line\n",
    "\n",
    "e_data.replace('\\n', ',')\n",
    "e_data.count\n",
    "\n",
    "print e_data, len(e_data), repr(e_data)\n",
    "\n",
    "\n",
    "# for line in open(name, \"r\"):\n",
    "#     line = line.replace('\"', '').strip()\n",
    "#     a, b, c, d = map(float, line.split())\n",
    "\n",
    "# file = open('gene_set1.txt', 'r')\n",
    "# print file\n",
    "\n",
    "\n",
    "\n",
    "# gene_set1 = gene_set1_contents.split('\\n')\n",
    "# for item in gene_set1:\n",
    "#     item.replace(\"'\", \"\").strip()\n",
    "# print gene_set1\n",
    "# print gene_set1[0], type(gene_set1[0]), len(gene_set1[0])\n",
    "# gene_set1[0].rstrip(\"'\").lstrip(\"'\")\n",
    "# print gene_set1[0]\n",
    "\n",
    "# original = \"EXAMPLE\"\n",
    "# removed = original.replace(\"M\", \"\")\n",
    "\n"
   ]
  },
  {
   "cell_type": "code",
   "execution_count": null,
   "metadata": {
    "collapsed": true
   },
   "outputs": [],
   "source": []
  }
 ],
 "metadata": {
  "kernelspec": {
   "display_name": "Python 2",
   "language": "python",
   "name": "python2"
  },
  "language_info": {
   "codemirror_mode": {
    "name": "ipython",
    "version": 2
   },
   "file_extension": ".py",
   "mimetype": "text/x-python",
   "name": "python",
   "nbconvert_exporter": "python",
   "pygments_lexer": "ipython2",
   "version": "2.7.11"
  }
 },
 "nbformat": 4,
 "nbformat_minor": 0
}
