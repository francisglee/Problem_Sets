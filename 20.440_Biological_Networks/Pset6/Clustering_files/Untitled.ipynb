{
 "cells": [
  {
   "cell_type": "code",
   "execution_count": 1,
   "metadata": {
    "collapsed": false
   },
   "outputs": [
    {
     "name": "stdout",
     "output_type": "stream",
     "text": [
      "[0.44448888999999997, 1.0, 1.0, 8.7025, 5.522500000000001, 11.2225, 2.4025000000000003, 6.502499999999999, 20.702499999999997, 9.713818889999999, 16.94721889, 4.480418889999999, 5.680118890000001, 8.90007889, 15.86667889, 1.7776888899999999, 1.0, 2.7778888900000003, 9.0, 9.0, 4.0, 0.5377288899999999, 0.28440888999999997, 0.7511688900000001, 4.0, 9.0, 16.0, 5.0625, 3.0625, 1.5625, 4.1616, 2.0736, 5.9536, 6.0516, 11.9716, 22.5625, 5.0625, 3.0625, 1.5625, 4.1616, 2.0736, 5.9536, 6.0516, 11.9716, 22.5625]\n",
      "302.14070668\n"
     ]
    }
   ],
   "source": [
    "k2 = [0.6667,    1.0000,    1.0000,    2.9500,    2.3500,    3.3500,    1.5500,   2.5500,     4.5500,\n",
    "      3.1167,    4.1167,    2.1167,    2.3833,    2.9833,    3.9833,    1.3333,   1.0000,     1.6667,\n",
    "      3.0000,    3.0000,    2.0000,    0.7333,    0.5333,    0.8667,    2.0000,    3.0000,    4.0000,\n",
    "      2.2500,    1.7500,    1.2500,    2.0400,    1.4400,    2.4400,    2.4600,    3.4600,    4.7500,\n",
    "      2.2500,    1.7500,    1.2500,    2.0400,    1.4400,    2.4400,    2.4600,    3.4600,    4.7500]\n",
    "\n",
    "k2squared = []\n",
    "\n",
    "for item in k2:\n",
    "    k2squared.append(item**2)\n",
    "    \n",
    "totalk2 = sum(k2squared)\n",
    "\n",
    "print k2squared\n",
    "print totalk2\n",
    "    "
   ]
  },
  {
   "cell_type": "code",
   "execution_count": null,
   "metadata": {
    "collapsed": true
   },
   "outputs": [],
   "source": []
  }
 ],
 "metadata": {
  "kernelspec": {
   "display_name": "Python 2",
   "language": "python",
   "name": "python2"
  },
  "language_info": {
   "codemirror_mode": {
    "name": "ipython",
    "version": 2
   },
   "file_extension": ".py",
   "mimetype": "text/x-python",
   "name": "python",
   "nbconvert_exporter": "python",
   "pygments_lexer": "ipython2",
   "version": "2.7.11"
  }
 },
 "nbformat": 4,
 "nbformat_minor": 0
}
