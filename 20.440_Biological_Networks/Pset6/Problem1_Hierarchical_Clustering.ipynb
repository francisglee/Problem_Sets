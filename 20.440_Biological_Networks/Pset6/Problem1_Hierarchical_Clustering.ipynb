{
 "cells": [
  {
   "cell_type": "code",
   "execution_count": 13,
   "metadata": {
    "collapsed": false
   },
   "outputs": [
    {
     "name": "stdout",
     "output_type": "stream",
     "text": [
      "[  3.           6.          21.09502311  23.08679276   6.70820393\n",
      "  18.11077028  20.09975124  21.37755833  23.34523506   2.        ]\n",
      "[[  3.           4.           2.           2.        ]\n",
      " [  0.           1.           3.           2.        ]\n",
      " [  2.           6.           6.           3.        ]\n",
      " [  5.           7.          18.11077028   5.        ]]\n"
     ]
    },
    {
     "data": {
      "text/plain": [
       "{'color_list': ['b', 'b', 'b', 'b'],\n",
       " 'dcoord': [[0.0, 2.0, 2.0, 0.0],\n",
       "  [0.0, 3.0, 3.0, 0.0],\n",
       "  [0.0, 6.0, 6.0, 3.0],\n",
       "  [2.0, 18.110770276274835, 18.110770276274835, 6.0]],\n",
       " 'icoord': [[5.0, 5.0, 15.0, 15.0],\n",
       "  [35.0, 35.0, 45.0, 45.0],\n",
       "  [25.0, 25.0, 40.0, 40.0],\n",
       "  [10.0, 10.0, 32.5, 32.5]],\n",
       " 'ivl': ['d', 'e', 'c', 'a', 'b'],\n",
       " 'leaves': [3, 4, 2, 0, 1]}"
      ]
     },
     "execution_count": 13,
     "metadata": {},
     "output_type": "execute_result"
    },
    {
     "data": {
      "image/png": "[encoded data removed]",
      "text/plain": [
       "<matplotlib.figure.Figure at 0x835dda0>"
      ]
     },
     "metadata": {},
     "output_type": "display_data"
    }
   ],
   "source": [
    "#!/usr/bin/env python\n",
    "\"\"\"\n",
    "Functions used in this problem set\n",
    "\n",
    "\"\"\"\n",
    "import matplotlib.pyplot as plt\n",
    "from scipy.cluster.hierarchy import dendrogram, linkage\n",
    "from scipy.spatial.distance import pdist\n",
    "from numpy import array\n",
    "import numpy as np\n",
    "\n",
    "%matplotlib inline\n",
    "\n",
    "# define cartesian coordinates\n",
    "a = (0, 0)\n",
    "b = (3, 0)\n",
    "c = (0, 6)\n",
    "d = (21, 2)\n",
    "e = (23, 2)\n",
    "coordinates = [a, b, c, d, e]\n",
    "\n",
    "# define condensed distance matrix\n",
    "dist_mat = pdist(coordinates, 'euclidean')\n",
    "print dist_mat\n",
    "\n",
    "# Perform hierarchical/agglomerative clustering on the condensed distance matrix \n",
    "linkage_matrix = linkage(dist_mat, method = 'single', metric = 'euclidean')\n",
    "\n",
    "# confirm heights \n",
    "print linkage_matrix\n",
    "\n",
    "# plot dendogram\n",
    "plt.figure(101)\n",
    "\n",
    "plt.title(\"ascending\")\n",
    "dendrogram(linkage_matrix,\n",
    "           color_threshold = 1,\n",
    "             # truncate_mode = 'lastp',\n",
    "                    labels = array(['a', 'b', 'c', 'd', 'e']),\n",
    "             distance_sort = 'ascending',\n",
    "          show_leaf_counts = True)"
   ]
  },
  {
   "cell_type": "code",
   "execution_count": null,
   "metadata": {
    "collapsed": true
   },
   "outputs": [],
   "source": [
    "import matplotlib.pyplot as plt\n",
    "from scipy.cluster.hierarchy import dendrogram, linkage\n",
    "from numpy import array\n",
    "import numpy as np\n",
    "\n",
    "%matplotlib inline\n",
    "\n",
    "# mat = array([184, 222, 177, 216, 231, \n",
    "#              45, 123, 128, 200, \n",
    "#              129, 121, 203, \n",
    "#              46, 83, \n",
    "#              83])\n",
    "\n",
    "mat = array([3, 6, 21.095, 23.087,\n",
    "              6.708, 18.111, 20.100,\n",
    "              21.378, 23.345,\n",
    "              2])\n",
    "\n",
    "dist_mat = mat\n",
    "\n",
    "# Perform hierarchical/agglomerative clustering on the condensed distance matrix \n",
    "linkage_matrix = linkage(dist_mat, 'complete')\n",
    "\n",
    "print linkage_matrix\n",
    "\n",
    "plt.figure(101)\n",
    "\n",
    "plt.subplot(1, 2, 1)\n",
    "plt.title(\"ascending\")\n",
    "dendrogram(linkage_matrix,\n",
    "           color_threshold = 1,\n",
    "             truncate_mode = 'lastp',\n",
    "                    labels = array(['c', 'b', 'a', 'e', 'd']),\n",
    "             distance_sort = 'ascending',\n",
    "          show_leaf_counts = True)\n",
    "\n",
    "plt.subplot(1, 2, 2)\n",
    "plt.title(\"descending\")\n",
    "dendrogram(linkage_matrix,\n",
    "           color_threshold = 1,\n",
    "             truncate_mode = 'lastp',\n",
    "                    labels = array(['d', 'e', 'a', 'b', 'c']),\n",
    "             distance_sort = 'descending'\n",
    "          show_leaf_counts = True)"
   ]
  }
 ],
 "metadata": {
  "kernelspec": {
   "display_name": "Python 2",
   "language": "python",
   "name": "python2"
  },
  "language_info": {
   "codemirror_mode": {
    "name": "ipython",
    "version": 2
   },
   "file_extension": ".py",
   "mimetype": "text/x-python",
   "name": "python",
   "nbconvert_exporter": "python",
   "pygments_lexer": "ipython2",
   "version": "2.7.11"
  }
 },
 "nbformat": 4,
 "nbformat_minor": 0
}
