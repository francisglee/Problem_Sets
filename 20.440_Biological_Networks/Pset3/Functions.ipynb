{
 "cells": [
  {
   "cell_type": "code",
   "execution_count": null,
   "metadata": {
    "collapsed": false
   },
   "outputs": [],
   "source": [
    "def choose(n, k):\n",
    "    \"\"\"returns n choose k: n!/(k!(n - k)!)\"\"\"\n",
    "    f = math.factorial\n",
    "    return f(n) / f(k) / f(n - k)"
   ]
  },
  {
   "cell_type": "code",
   "execution_count": 3,
   "metadata": {
    "collapsed": false
   },
   "outputs": [],
   "source": [
    "def binomial(n, k, theta):\n",
    "    \"\"\"returns the binomial probability of k desired success, out of n samples drawn, with theta success probability\"\"\"\n",
    "    return choose(n, k) * (theta**k) * (1 - theta)**(n - k) # choose(n, k) = binomial_coefficient"
   ]
  },
  {
   "cell_type": "code",
   "execution_count": null,
   "metadata": {
    "collapsed": true
   },
   "outputs": [],
   "source": [
    "def binomialdist(n, theta):\n",
    "    \"\"\"returns the binomial probability distribution list of k desired successes, out of n samples drawn, with theta success probability\"\"\"\n",
    "    bin_list = [] # binomial distribution list\n",
    "    for k in range(0, n + 1):  \n",
    "        bin_list.append(binomial(n, k, theta))\n",
    "    return bin_list"
   ]
  },
  {
   "cell_type": "code",
   "execution_count": null,
   "metadata": {
    "collapsed": true
   },
   "outputs": [],
   "source": [
    "def binomialcdf(n, k, theta): # assumes 0 for k_min!!!\n",
    "    \"\"\"returns the binomial cumulative distribution list of range(0, k) of desired successes, out of n samples drawn, with theta success probability\"\"\"\n",
    "    bin_list = [] # binomial distribution list\n",
    "    for x in range(0, k + 1):  \n",
    "        probability = binomial(n, x, theta) # x is k in k_range\n",
    "        bin_list.append(probability)\n",
    "    return sum(bin_list)"
   ]
  },
  {
   "cell_type": "code",
   "execution_count": null,
   "metadata": {
    "collapsed": true
   },
   "outputs": [],
   "source": [
    "def hypergeo(K, N, n, k):\n",
    "    \"\"\"returns the hypergeometric probability of k success, out of n samples drawn, given N total samples and K success samples\"\"\"\n",
    "    a = choose(K, k)\n",
    "    b = choose(N - K, n - k)\n",
    "    c = choose(N, n)\n",
    "    return float((a * b))/c"
   ]
  },
  {
   "cell_type": "code",
   "execution_count": null,
   "metadata": {
    "collapsed": true
   },
   "outputs": [],
   "source": [
    "def hypergeocdf(K, N, n, k): # assumes 0 for k_min!!!\n",
    "    \"\"\"returns the hypergeometric culmulative probability distribution of k successes, out of n samples drawn, given N total samples and K success samples\"\"\"\n",
    "    prob_list = []\n",
    "    for x in range(0, k + 1):  \n",
    "        probability = hypergeo(K, N, n, x) # x is k in k_set\n",
    "        prob_list.append(probability)\n",
    "    return sum(prob_list)"
   ]
  },
  {
   "cell_type": "code",
   "execution_count": null,
   "metadata": {
    "collapsed": true
   },
   "outputs": [],
   "source": [
    "def poisson(k, n, theta):\n",
    "    \"\"\"returns poisson probability of k occurring at interval lamb (n * theta)\"\"\"\n",
    "    lamb = n * theta\n",
    "    return (lamb**k / math.factorial(k)) * np.exp(-lamb)"
   ]
  },
  {
   "cell_type": "code",
   "execution_count": null,
   "metadata": {
    "collapsed": true
   },
   "outputs": [],
   "source": [
    "def poissondist(n, theta):\n",
    "    \"\"\"returns the poisson probability distribution list of k desired successes, out of n samples drawn, with theta success probability\"\"\"\n",
    "    prob_list = [] # binomial distribution list\n",
    "    for k in range(0, n + 1):  \n",
    "        prob_list.append(poisson(k, n, theta))\n",
    "    return prob_list"
   ]
  },
  {
   "cell_type": "code",
   "execution_count": null,
   "metadata": {
    "collapsed": true
   },
   "outputs": [],
   "source": [
    "def pop_variance(data):\n",
    "    \"\"\"returns variance or squared difference from the mean, of a data\"\"\"\n",
    "    expected = mean(data)\n",
    "    squared_diff = 0\n",
    "    for item in data:\n",
    "        squared_diff += (item - expected)**2\n",
    "    return squared_diff / len(data)"
   ]
  },
  {
   "cell_type": "code",
   "execution_count": null,
   "metadata": {
    "collapsed": true
   },
   "outputs": [],
   "source": [
    "def mean(data):\n",
    "    \"\"\"return mean or expected value of a data\"\"\"\n",
    "    return sum(data) / len(data)"
   ]
  },
  {
   "cell_type": "code",
   "execution_count": null,
   "metadata": {
    "collapsed": true
   },
   "outputs": [],
   "source": [
    "def pop_stdev(data):\n",
    "    \"\"\"returns standard deviation of data\"\"\"\n",
    "    return np.sqrt(pop_variance(data))"
   ]
  },
  {
   "cell_type": "code",
   "execution_count": null,
   "metadata": {
    "collapsed": true
   },
   "outputs": [],
   "source": [
    "def compute_zscore(data_point, mean, stdev):\n",
    "    \"\"\"returns the zscore based on the mean and stdev of dataset\"\"\"\n",
    "    return (data_point - mean) / stdev\n"
   ]
  }
 ],
 "metadata": {
  "kernelspec": {
   "display_name": "Python 2",
   "language": "python",
   "name": "python2"
  },
  "language_info": {
   "codemirror_mode": {
    "name": "ipython",
    "version": 2
   },
   "file_extension": ".py",
   "mimetype": "text/x-python",
   "name": "python",
   "nbconvert_exporter": "python",
   "pygments_lexer": "ipython2",
   "version": "2.7.10"
  }
 },
 "nbformat": 4,
 "nbformat_minor": 0
}
